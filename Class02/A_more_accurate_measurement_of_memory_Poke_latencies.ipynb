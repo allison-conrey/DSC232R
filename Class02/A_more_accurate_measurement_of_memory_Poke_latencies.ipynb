{
 "cells": [
  {
   "cell_type": "markdown",
   "metadata": {
    "slideshow": {
     "slide_type": "slide"
    }
   },
   "source": [
    "## measuring memory latency "
   ]
  },
  {
   "cell_type": "markdown",
   "metadata": {
    "slideshow": {
     "slide_type": "fragment"
    }
   },
   "source": [
    "The purpose of this notebook is to overcome a problem int the notebook `2_measuring_performance_of_memory_hierarchy.ipynb`.\n",
    "\n",
    "The problem is that the `time()` function is only accurate up to $10^{-7}$ of a second. So any operations that take a shorter time do not register as taking any time.\n",
    "\n",
    "To overcome the problem we perform many random pokes in sequence and measure the time it takes to complete all of the pokes.\n",
    "\n",
    "As we ware interested in times shorter than $10^{-7}$ we restrict our attention to the main memory, rather than to files."
   ]
  },
  {
   "cell_type": "markdown",
   "metadata": {
    "slideshow": {
     "slide_type": "skip"
    }
   },
   "source": [
    "### Import modules"
   ]
  },
  {
   "cell_type": "code",
   "execution_count": 1,
   "metadata": {
    "ExecuteTime": {
     "end_time": "2018-04-09T00:40:40.212043Z",
     "start_time": "2018-04-09T00:40:40.204999Z"
    },
    "slideshow": {
     "slide_type": "skip"
    }
   },
   "outputs": [
    {
     "name": "stdout",
     "output_type": "stream",
     "text": [
      "Populating the interactive namespace from numpy and matplotlib\n"
     ]
    }
   ],
   "source": [
    "%pylab inline\n",
    "from numpy import *"
   ]
  },
  {
   "cell_type": "code",
   "execution_count": 2,
   "metadata": {
    "ExecuteTime": {
     "end_time": "2018-04-09T00:40:47.603053Z",
     "start_time": "2018-04-09T00:40:47.599216Z"
    },
    "collapsed": true,
    "slideshow": {
     "slide_type": "skip"
    }
   },
   "outputs": [],
   "source": [
    "import time\n",
    "from matplotlib.backends.backend_pdf import PdfPages\n",
    "\n",
    "from os.path import isfile,isdir\n",
    "from os import mkdir\n",
    "import os"
   ]
  },
  {
   "cell_type": "code",
   "execution_count": 3,
   "metadata": {
    "ExecuteTime": {
     "end_time": "2018-04-09T00:40:54.119509Z",
     "start_time": "2018-04-09T00:40:54.115117Z"
    },
    "collapsed": true,
    "slideshow": {
     "slide_type": "skip"
    }
   },
   "outputs": [],
   "source": [
    "from lib.measureRandomAccess import measureRandomAccess\n",
    "from lib.PlotTime import PlotTime"
   ]
  },
  {
   "cell_type": "markdown",
   "metadata": {
    "slideshow": {
     "slide_type": "slide"
    }
   },
   "source": [
    "### setting parameters\n",
    "* We test access to elements arrays whose sizes are:\n",
    "   * 1MB, 10MB, 100MB, 1000MB (=1GB)\n",
    "* Arrays are stored **in memory** or on disk **on disk**"
   ]
  },
  {
   "cell_type": "markdown",
   "metadata": {
    "slideshow": {
     "slide_type": "fragment"
    }
   },
   "source": [
    "* We perform 1 million read/write ops  to random locations in the array.\n",
    "* We analyze the **distribution** of the latencies."
   ]
  },
  {
   "cell_type": "code",
   "execution_count": 4,
   "metadata": {
    "ExecuteTime": {
     "end_time": "2018-04-09T00:42:00.156150Z",
     "start_time": "2018-04-09T00:42:00.151432Z"
    },
    "slideshow": {
     "slide_type": "skip"
    }
   },
   "outputs": [
    {
     "name": "stdout",
     "output_type": "stream",
     "text": [
      "n=100, k=100000, m_list= [1, 10, 100, 1000, 10000]\n"
     ]
    }
   ],
   "source": [
    "n=100 # size of single block (1MB)\n",
    "m_list=[1,10,100,1000,10000] # size of file in blocks\n",
    "k=100000;  # number of repeats\n",
    "L=len(m_list)\n",
    "print('n=%d, k=%d, m_list='%(n,k),m_list)"
   ]
  },
  {
   "cell_type": "markdown",
   "metadata": {
    "slideshow": {
     "slide_type": "skip"
    }
   },
   "source": [
    "### Set working directory\n",
    "This script generates large files. We put these files in a separate directory so it is easier to delete them later."
   ]
  },
  {
   "cell_type": "code",
   "execution_count": 5,
   "metadata": {
    "ExecuteTime": {
     "end_time": "2018-04-09T00:42:02.043500Z",
     "start_time": "2018-04-09T00:42:02.030563Z"
    },
    "slideshow": {
     "slide_type": "skip"
    }
   },
   "outputs": [
    {
     "name": "stdout",
     "output_type": "stream",
     "text": [
      "/home/ccc_v1_t_TS0f_161889/work/asn88885_10/asn88886_1/work/Section1-Spark-Basics/0.MemoryLatency/logs/1569977826\n"
     ]
    }
   ],
   "source": [
    "log_root='./logs'\n",
    "if not isdir(log_root): mkdir(log_root)\n",
    "TimeStamp=str(int(time.time()))\n",
    "log_dir=log_root+'/'+TimeStamp\n",
    "mkdir(log_dir)\n",
    "%cd $log_dir\n",
    "stat=open('stats.txt','w')\n",
    "\n",
    "def tee(line):\n",
    "    print(line)\n",
    "    stat.write(line+'\\n')"
   ]
  },
  {
   "cell_type": "code",
   "execution_count": 6,
   "metadata": {
    "ExecuteTime": {
     "end_time": "2018-04-09T00:42:05.043025Z",
     "start_time": "2018-04-09T00:42:05.039373Z"
    },
    "collapsed": true,
    "slideshow": {
     "slide_type": "skip"
    }
   },
   "outputs": [],
   "source": [
    "_mean=zeros([2,L])   #0: using disk, 1: using memory\n",
    "_std=zeros([2,L])\n",
    "Tmem=[]\n",
    "TFile=[]"
   ]
  },
  {
   "cell_type": "code",
   "execution_count": 7,
   "metadata": {
    "ExecuteTime": {
     "end_time": "2018-04-09T00:42:09.897133Z",
     "start_time": "2018-04-09T00:42:09.874674Z"
    },
    "code_folding": [],
    "collapsed": true
   },
   "outputs": [],
   "source": [
    "import numpy as np\n",
    "from numpy.random import rand\n",
    "import time\n",
    "\n",
    "def measureRandomAccessMemBlocks(sz,k=1000,batch=100):\n",
    "    \"\"\"Measure the distribution of random accesses in computer memory.\n",
    "\n",
    "    :param sz: size of memory block.\n",
    "    :param k: number of times that the experiment is repeated.\n",
    "    :param batch: The number of locations poked in a single experiment (multiple pokes performed using numpy, rather than python loop)\n",
    "    :returns: (_mean,std,T):\n",
    "              _mean = the mean of T\n",
    "              _std = the std of T\n",
    "              T = a list the contains the times of all k experiments\n",
    "    :rtype: tuple\n",
    "\n",
    "    \"\"\"\n",
    "    # Prepare buffer.\n",
    "    A=np.zeros(sz,dtype=np.int8)\n",
    "            \n",
    "    # Read and write k*batch times from/to buffer.\n",
    "    sum=0; sum2=0\n",
    "    T=np.zeros(k)\n",
    "    for i in range(k):\n",
    "        if (i%100==0): print('\\r',i, end=' ')\n",
    "        loc=np.int32(rand(batch)*sz)\n",
    "        t=time.time()\n",
    "        x=A[loc]\n",
    "        A[loc]=loc\n",
    "        d=(time.time()-t)/batch\n",
    "        T[i]=d\n",
    "        sum += d\n",
    "        sum2 += d*d\n",
    "    _mean=sum/k; var=(sum2/k)-_mean**2; _std=np.sqrt(var)\n",
    "    return (_mean,_std,T)"
   ]
  },
  {
   "cell_type": "code",
   "execution_count": 8,
   "metadata": {
    "ExecuteTime": {
     "end_time": "2018-04-09T00:46:02.124961Z",
     "start_time": "2018-04-09T00:46:02.121985Z"
    },
    "collapsed": true
   },
   "outputs": [],
   "source": [
    "m_list=[10,1000,10000,100000,1000000,10000000,100000000,1000000000]\n",
    "m_legend=['10B','1KB','10KB','100KB','1MB','10MB','100MB','1GB']"
   ]
  },
  {
   "cell_type": "code",
   "execution_count": null,
   "metadata": {
    "ExecuteTime": {
     "end_time": "2018-04-09T00:46:04.775116Z",
     "start_time": "2018-04-09T00:46:03.696300Z"
    },
    "scrolled": true,
    "slideshow": {
     "slide_type": "skip"
    }
   },
   "outputs": [
    {
     "name": "stdout",
     "output_type": "stream",
     "text": [
      "Memory array 10 Bytes\n",
      "Memory pokes _mean=2.2172689437866045e-08, Memory _std=1.2749012371199187e-07\n",
      "Memory array 1000 Bytes\n",
      "Memory pokes _mean=1.76773071289062e-08, Memory _std=1.4492373426138178e-08\n",
      "Memory array 10000 Bytes\n",
      "Memory pokes _mean=2.1302700042724702e-08, Memory _std=2.3344059100144298e-08\n",
      "Memory array 100000 Bytes\n",
      "Memory pokes _mean=1.4214038848876832e-08, Memory _std=2.143190224073267e-08\n",
      "Memory array 1000000 Bytes\n",
      "Memory pokes _mean=1.654481887817381e-08, Memory _std=3.1749179760893e-08\n",
      "Memory array 10000000 Bytes\n",
      "Memory pokes _mean=3.1414508819579996e-08, Memory _std=1.0611376225861106e-07\n",
      "Memory array 100000000 Bytes\n",
      "Memory pokes _mean=1.2456393241882282e-07, Memory _std=3.8794427160679063e-07\n",
      "Memory array 1000000000 Bytes\n",
      " 0 "
     ]
    }
   ],
   "source": [
    "Random_pokes=[]\n",
    "\n",
    "L=len(m_list)\n",
    "_mean=zeros([L])   #0: using disk, 1: using memory\n",
    "_std=zeros([L])\n",
    "TMem=[0]*L\n",
    "\n",
    "for m_i in range(L):\n",
    "    m=m_list[m_i]\n",
    "    print('Memory array %d Bytes'%m)\n",
    "    out = measureRandomAccessMemBlocks(m,k=1000,batch=1000)\n",
    "    (_mean[m_i],_std[m_i],TMem[m_i]) = out\n",
    "    TMem[m_i].sort()\n",
    "    tee('\\rMemory pokes _mean='+str(_mean[m_i])+', Memory _std='+str(_std[m_i]))\n",
    "\n",
    "    Random_pokes.append({'m_i':m_i,\n",
    "                        'm':m,\n",
    "                        'memory__mean': _mean[m_i],\n",
    "                        'memory__std': _std[m_i],\n",
    "                        'memory_largest': TMem[m_i][-100:],\n",
    "                })"
   ]
  },
  {
   "cell_type": "markdown",
   "metadata": {
    "slideshow": {
     "slide_type": "subslide"
    }
   },
   "source": [
    "### Characterize random access to storage"
   ]
  },
  {
   "cell_type": "code",
   "execution_count": null,
   "metadata": {
    "ExecuteTime": {
     "end_time": "2018-04-09T00:46:13.536092Z",
     "start_time": "2018-04-09T00:46:12.640575Z"
    },
    "hide_input": false
   },
   "outputs": [],
   "source": [
    "pp = PdfPages('MemoryBlockFigure.pdf')\n",
    "figure(figsize=(6,4))\n",
    "\n",
    "Colors='bgrcmyk'  # The colors for the plot\n",
    "LineStyles=['-']\n",
    "\n",
    "fig = matplotlib.pyplot.gcf()\n",
    "fig.set_size_inches(18.5,10.5)\n",
    "\n",
    "for m_i in range(len(m_list)):\n",
    "    Color=Colors[m_i % len(Colors)]\n",
    "    PlotTime(TMem[m_i],_mean[m_i],_std[m_i],\\\n",
    "             Color=Color,LS='-',Legend=m_legend[m_i],\\\n",
    "             m_i=m_i)\n",
    "\n",
    "grid()\n",
    "legend(fontsize=18)\n",
    "xlabel('delay (sec)',fontsize=18)\n",
    "ylabel('1-CDF',fontsize=18)\n",
    "tick_params(axis='both', which='major', labelsize=16)\n",
    "tick_params(axis='both', which='minor', labelsize=12)\n",
    "pp.savefig()\n",
    "pp.close()"
   ]
  },
  {
   "cell_type": "markdown",
   "metadata": {
    "hide_input": true,
    "slideshow": {
     "slide_type": "subslide"
    }
   },
   "source": [
    "### Conclusions\n",
    "\n",
    "We see that for this laptop (an apple powerbook) the latency of random pokes is close to $10^{-8}$ for blocks of size up to 1 MB. Beyond that, for sizes of 10MB, 100MB and 1GB, the delay is significantly larger.\n",
    "\n",
    "This makes sense because the size of the L3 cache in this machine is about 6MB."
   ]
  }
 ],
 "metadata": {
  "anaconda-cloud": {},
  "celltoolbar": "Slideshow",
  "hide_input": false,
  "kernelspec": {
   "display_name": "Python 3 [3.6]",
   "language": "python",
   "name": "python3"
  },
  "language_info": {
   "codemirror_mode": {
    "name": "ipython",
    "version": 3
   },
   "file_extension": ".py",
   "mimetype": "text/x-python",
   "name": "python",
   "nbconvert_exporter": "python",
   "pygments_lexer": "ipython3",
   "version": "3.6.4"
  },
  "toc": {
   "base_numbering": 1,
   "nav_menu": {
    "height": "82px",
    "width": "252px"
   },
   "number_sections": true,
   "sideBar": true,
   "skip_h1_title": false,
   "title_cell": "Table of Contents",
   "title_sidebar": "Contents",
   "toc_cell": false,
   "toc_position": {
    "height": "597px",
    "left": "0px",
    "right": "1204px",
    "top": "106px",
    "width": "251px"
   },
   "toc_section_display": "block",
   "toc_window_display": false
  }
 },
 "nbformat": 4,
 "nbformat_minor": 2
}
